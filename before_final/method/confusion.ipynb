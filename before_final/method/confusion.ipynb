{
 "cells": [
  {
   "cell_type": "markdown",
   "metadata": {},
   "source": [
    "## ทดลองทำการ Evaluate\n"
   ]
  },
  {
   "cell_type": "code",
   "execution_count": 3,
   "metadata": {},
   "outputs": [
    {
     "name": "stdout",
     "output_type": "stream",
     "text": [
      "Confusion Matrix:\n",
      "[[0 0 0 0 0 0 0 0 0 0 0 0 0]\n",
      " [0 1 0 0 0 0 0 0 0 0 0 0 0]\n",
      " [1 0 0 0 0 0 0 0 0 0 0 0 0]\n",
      " [0 0 0 1 0 0 0 0 0 0 0 0 0]\n",
      " [0 0 0 0 1 0 0 0 0 0 0 0 0]\n",
      " [0 0 0 0 0 0 0 0 0 0 1 0 0]\n",
      " [0 0 0 0 0 0 0 0 0 1 0 0 0]\n",
      " [0 0 0 0 0 0 0 1 0 0 0 0 0]\n",
      " [1 0 0 0 0 0 0 0 1 0 0 0 0]\n",
      " [0 0 0 0 0 0 0 0 0 0 1 0 0]\n",
      " [0 0 0 0 0 0 0 0 0 1 0 0 0]\n",
      " [0 0 0 0 0 0 0 0 0 0 0 1 0]\n",
      " [0 0 0 0 0 0 0 0 0 0 0 0 1]]\n",
      "Classification Report:\n",
      "              precision    recall  f1-score   support\n",
      "\n",
      "                   0.00      0.00      0.00         0\n",
      "           ก       1.00      1.00      1.00         1\n",
      "           ค       0.00      0.00      0.00         1\n",
      "           ง       1.00      1.00      1.00         1\n",
      "           ท       1.00      1.00      1.00         1\n",
      "           น       0.00      0.00      0.00         1\n",
      "           พ       0.00      0.00      0.00         1\n",
      "           ม       1.00      1.00      1.00         1\n",
      "           ร       1.00      0.50      0.67         2\n",
      "           ห       0.00      0.00      0.00         1\n",
      "           า       0.00      0.00      0.00         1\n",
      "           ุ       1.00      1.00      1.00         1\n",
      "           เ       1.00      1.00      1.00         1\n",
      "\n",
      "    accuracy                           0.54        13\n",
      "   macro avg       0.54      0.50      0.51        13\n",
      "weighted avg       0.62      0.54      0.56        13\n",
      "\n"
     ]
    },
    {
     "name": "stderr",
     "output_type": "stream",
     "text": [
      "/Users/gunnviryasiri/.pyenv/versions/3.11.0/envs/myenv3110/lib/python3.11/site-packages/sklearn/metrics/_classification.py:1531: UndefinedMetricWarning: Precision is ill-defined and being set to 0.0 in labels with no predicted samples. Use `zero_division` parameter to control this behavior.\n",
      "  _warn_prf(average, modifier, f\"{metric.capitalize()} is\", len(result))\n",
      "/Users/gunnviryasiri/.pyenv/versions/3.11.0/envs/myenv3110/lib/python3.11/site-packages/sklearn/metrics/_classification.py:1531: UndefinedMetricWarning: Recall is ill-defined and being set to 0.0 in labels with no true samples. Use `zero_division` parameter to control this behavior.\n",
      "  _warn_prf(average, modifier, f\"{metric.capitalize()} is\", len(result))\n",
      "/Users/gunnviryasiri/.pyenv/versions/3.11.0/envs/myenv3110/lib/python3.11/site-packages/sklearn/metrics/_classification.py:1531: UndefinedMetricWarning: Precision is ill-defined and being set to 0.0 in labels with no predicted samples. Use `zero_division` parameter to control this behavior.\n",
      "  _warn_prf(average, modifier, f\"{metric.capitalize()} is\", len(result))\n",
      "/Users/gunnviryasiri/.pyenv/versions/3.11.0/envs/myenv3110/lib/python3.11/site-packages/sklearn/metrics/_classification.py:1531: UndefinedMetricWarning: Recall is ill-defined and being set to 0.0 in labels with no true samples. Use `zero_division` parameter to control this behavior.\n",
      "  _warn_prf(average, modifier, f\"{metric.capitalize()} is\", len(result))\n",
      "/Users/gunnviryasiri/.pyenv/versions/3.11.0/envs/myenv3110/lib/python3.11/site-packages/sklearn/metrics/_classification.py:1531: UndefinedMetricWarning: Precision is ill-defined and being set to 0.0 in labels with no predicted samples. Use `zero_division` parameter to control this behavior.\n",
      "  _warn_prf(average, modifier, f\"{metric.capitalize()} is\", len(result))\n",
      "/Users/gunnviryasiri/.pyenv/versions/3.11.0/envs/myenv3110/lib/python3.11/site-packages/sklearn/metrics/_classification.py:1531: UndefinedMetricWarning: Recall is ill-defined and being set to 0.0 in labels with no true samples. Use `zero_division` parameter to control this behavior.\n",
      "  _warn_prf(average, modifier, f\"{metric.capitalize()} is\", len(result))\n"
     ]
    }
   ],
   "source": [
    "from sklearn.metrics import confusion_matrix, classification_report\n",
    "import numpy as np\n",
    "\n",
    "# สมมุติว่ามี Ground Truth และ Predicted Text\n",
    "ground_truth = \"กรุงเทพมหานคร\"\n",
    "predicted_text = \"กรุงเทหมาหา\"\n",
    "\n",
    "# สร้าง list ของตัวอักษรจาก Ground Truth และ Predicted Text\n",
    "ground_truth_chars = list(ground_truth)\n",
    "predicted_chars = list(predicted_text)\n",
    "\n",
    "# เพิ่มความยาวของ list ให้ตรงกัน\n",
    "max_len = max(len(ground_truth_chars), len(predicted_chars))\n",
    "ground_truth_chars = ground_truth_chars + [''] * (max_len - len(ground_truth_chars))\n",
    "predicted_chars = predicted_chars + [''] * (max_len - len(predicted_chars))\n",
    "\n",
    "# สร้าง confusion matrix\n",
    "cm = confusion_matrix(ground_truth_chars, predicted_chars, labels=np.unique(ground_truth_chars + predicted_chars))\n",
    "\n",
    "# แสดง confusion matrix\n",
    "print(\"Confusion Matrix:\")\n",
    "print(cm)\n",
    "\n",
    "# แสดงผล classification report\n",
    "print(\"Classification Report:\")\n",
    "print(classification_report(ground_truth_chars, predicted_chars))\n"
   ]
  }
 ],
 "metadata": {
  "kernelspec": {
   "display_name": "myenv3110",
   "language": "python",
   "name": "python3"
  },
  "language_info": {
   "codemirror_mode": {
    "name": "ipython",
    "version": 3
   },
   "file_extension": ".py",
   "mimetype": "text/x-python",
   "name": "python",
   "nbconvert_exporter": "python",
   "pygments_lexer": "ipython3",
   "version": "3.11.0"
  }
 },
 "nbformat": 4,
 "nbformat_minor": 2
}
