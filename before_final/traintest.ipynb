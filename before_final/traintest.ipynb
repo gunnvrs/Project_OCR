{
 "cells": [
  {
   "cell_type": "markdown",
   "metadata": {},
   "source": [
    "# ทำการเทรน"
   ]
  },
  {
   "cell_type": "code",
   "execution_count": 6,
   "metadata": {},
   "outputs": [
    {
     "name": "stdout",
     "output_type": "stream",
     "text": [
      "Extracting tessdata components from /Users/gunnviryasiri/pythainlp-data/tessdata/tha.traineddata\n",
      "Wrote tha.lstm\n",
      "Version:4.00.00alpha:tha:best2int20180322\n",
      "0:config:size=27, offset=192\n",
      "17:lstm:size=960082, offset=219\n",
      "18:lstm-punc-dawg:size=2914, offset=960301\n",
      "19:lstm-word-dawg:size=101722, offset=963215\n",
      "20:lstm-number-dawg:size=42, offset=1064937\n",
      "21:lstm-unicharset:size=6518, offset=1064979\n",
      "22:lstm-recoder:size=985, offset=1071497\n",
      "23:version:size=33, offset=1072482\n",
      "Training completed successfully!\n"
     ]
    },
    {
     "name": "stderr",
     "output_type": "stream",
     "text": [
      "Usage: unicharset_extractor [--output_unicharset filename] [--norm_mode mode] box_or_text_file [...]\n",
      "Where mode means:\n",
      " 1=combine graphemes (use for Latin and other simple scripts)\n",
      " 2=split graphemes (use for Indic/Khmer/Myanmar)\n",
      " 3=pure unicode (use for Arabic/Hebrew/Thai/Tibetan)\n",
      "Reads box or plain text files to extract the unicharset.\n"
     ]
    }
   ],
   "source": [
    "import os\n",
    "import subprocess\n",
    "\n",
    "def convert_bmp_to_png(directory):\n",
    "    for filename in os.listdir(directory):\n",
    "        if filename.endswith(\".bmp\"):\n",
    "            bmp_path = os.path.join(directory, filename)\n",
    "            png_path = os.path.splitext(bmp_path)[0] + \".png\"\n",
    "            subprocess.run([\"convert\", bmp_path, png_path])\n",
    "\n",
    "def generate_box_files(directory):\n",
    "    for filename in os.listdir(directory):\n",
    "        if filename.endswith(\".png\"):\n",
    "            png_path = os.path.join(directory, filename)\n",
    "            base_name = os.path.splitext(png_path)[0]\n",
    "            subprocess.run([\"tesseract\", png_path, base_name, \"-l\", \"tha\", \"--psm\", \"6\", \"batch.nochop\", \"makebox\"])\n",
    "\n",
    "def train_model(directory):\n",
    "    for filename in os.listdir(directory):\n",
    "        if filename.endswith(\".png\"):\n",
    "            png_path = os.path.join(directory, filename)\n",
    "            box_path = os.path.splitext(png_path)[0] + \".box\"\n",
    "            subprocess.run([\"tesseract\", png_path, box_path, \"lstm.train\"])\n",
    "\n",
    "def extract_unicharset(directory):\n",
    "    box_files = [os.path.join(directory, f) for f in os.listdir(directory) if f.endswith(\".box\")]\n",
    "    subprocess.run([\"unicharset_extractor\", \"--norm_mode\", \"3\"] + box_files)\n",
    "\n",
    "def combine_tessdata(tessdata_path, output_path):\n",
    "    subprocess.run([\"combine_tessdata\", \"-e\", tessdata_path, output_path])\n",
    "\n",
    "def main():\n",
    "    # กำหนดเส้นทางโฟลเดอร์\n",
    "    directory = \"/Users/gunnviryasiri/Desktop/ocr/ThaiOCR/ThaiOCR-TrainigSet\"  # แก้ไขเส้นทางนี้ให้ตรงกับตำแหน่งที่เก็บข้อมูล\n",
    "    tessdata_path = \"/Users/gunnviryasiri/pythainlp-data/tessdata/tha.traineddata\"  # เส้นทางไปยังไฟล์ tha.traineddata\n",
    "    output_path = \"tha.lstm\"\n",
    "\n",
    "    # แปลงไฟล์ BMP เป็น PNG\n",
    "    convert_bmp_to_png(directory)\n",
    "\n",
    "    # สร้างไฟล์ .box\n",
    "    generate_box_files(directory)\n",
    "\n",
    "    # ฝึกโมเดล\n",
    "    train_model(directory)\n",
    "\n",
    "    # สร้างไฟล์ unicharset\n",
    "    extract_unicharset(directory)\n",
    "\n",
    "    # สร้างไฟล์ training data\n",
    "    combine_tessdata(tessdata_path, output_path)\n",
    "\n",
    "    print(\"Training completed successfully!\")\n",
    "\n",
    "if __name__ == \"__main__\":\n",
    "    main()"
   ]
  },
  {
   "cell_type": "markdown",
   "metadata": {},
   "source": [
    "# TH ล้วน"
   ]
  },
  {
   "cell_type": "code",
   "execution_count": 12,
   "metadata": {},
   "outputs": [
    {
     "name": "stdout",
     "output_type": "stream",
     "text": [
      "ท ี ่ ก พ ท ๐ ๑ / ล ๑ ๕ พ ส ํ า น ั ก ง า น ก า ร บ ิ น พ ล เร ื อ น แห ่ ง ป ร ะ เท ศ ไ ท ย\n",
      "\n",
      "' ๒ ๒ ๒ ขอ ย ว ิ ภา ว ต ี ร ั ง ส ิ ต ๒ ๕\n",
      "\n",
      "ถ ถ น น ว ิ ภา ว ด ี ร ั ง ส ิ ต แข ว ง จ ต ุ จ ั ก ร\n",
      "\n",
      ". เ ข ต จ ต ุ จ ั ก ร ก ร ุ ง เท พ ม ห า น ค ร ๑ ๐ ๓ ๐ ๐\n",
      "\n",
      "0 ก ุ ม ภา พ ั น ธ์ ๒ ๕ ๒ ๓\n",
      "เร ื ่ อ ง ก า ร อ น ุ ญา ต บ ั ง ค ั บ ห ร ื อ ป ล ่ อ ย อ า ก า ศ ย า น ซึ ่ ง ไม ่ ม ี น ั ก บ ิ น ใน พ ื ้ น ท ี ่ อ ั น ต ร า ย\n",
      "เร ี ย น น า ย ก ั น ย ์ ว ิ ร ย ศิ ร ิ\n",
      "ต า ม ท ี ่ ท ่ า น ม ี ค ว า ม ป ร ะ ส ง ค ์ จ ะ ท ํ า ก า ร บ ิ น ถ่ า ย ภา พ น ึ ่ ง แล ะ ภา พ เค ล ื ่ อ น ไห ว ใน ม ุ ม ส ู ง\n",
      "\n",
      "จ ึ ง ขอ อ น ุ ญา ต บ ั ง ค ั บ ห ร ื อ ป ล ่ อ ย อ า ก า ศ ย า น ซึ่ ง ไม ่ ม ี น ั ก บ ื น ต า ม ห น ั ง ส ื อ ก า ร ขึ ้ น ท ะ เบ ี ย น ผู้ บ ั ง ค ั บ ห ร ื อ ป ล ่ อ ย\n",
      "อ า ก า ศ ย า น ซึ ่ ง ไม ่ ม ี น ั ก บ ิ น เล ข ท ี ่ ๐ ๑ ๐ ๒ ๕ ๒ / ๒ ๕ ๒ ๒ แบ บ !/ บ เป ่ ศิ ๐ ๒ ๐ «ย่ ห ้ อ 00| รุ่น ม ย 3 ห ม า ย เล ข เค ร ื ่ อ ง\n",
      "1561 ค ร ท 4๕22640026970 ท ํ า ก า ร บ ิ น ใน ว ั น ท ี ่ ๕ - ๓ ก ุ ม ภา พ ั น ธ์ ๒ ๕ ๒ ๓ ช่ ว ง เว ล า ๑ ๐ ๐ ๐ : ๑ ๒ ๐ ๐ น .\n",
      "\n",
      "บ ร ิ เว ณ พ ื ้ น ท ี ่ ศา ล เจ ้ า ฮ ก เฮ ง ต ั ๋ ว ต ํ า บ ล ส อ ง พ ี ่ น ้ อ ง อ ํ า เภ อ ส อ ง พ ี ่ น ้ อ ง จ ั ง ห ว ั ด ส ุ พ ร ร ณ บ ุ ร ี ซึ่ ง อ ย ู ่ ใน พ ื ้ น ท ี ่ อ ั น ต ร า ย\n",
      "ห 1 016 ศิ ด! ต หล อ น ต โด ย ใช ้ ค ว า ม ส ู ง ไม ่ เก ิ น «๐ เม ต ร เห น ื อ พ ื ้ น ด ิ น น ั ้ น\n",
      "\n",
      "อ า ศั ย อ ํ า น า จ ต า ม ข้ อ ๑ ๐ ขอ ง ป ร ะ ก า ศก ร ะ ท ร ว ง ค ม น า ค ม เร ื ่ อ ง ห ล ั ก เก ณ ฑ์ ก า ร ขอ อ น ุ ญา ต\n",
      "แล ะ เง ื ่ อ น ไข ใน ก า ร บ ั ง ค ั บ ห ร ื อ ป ล ่ อ ย อ า ก า ศ ย า น ซึ ่ ง ไม ่ ม ี น ั ก บ ิ น ป ร ะ เภ ท อ า ก า ศ ย า น ท ี ่ ค ว บ ค ุ ม ก า ร บ ิ น จ า ก ภา ย น อ ก\n",
      "ป ร ะ ก า ศ ณ ว ั น ท ี ่ ๒ ) ก ร ก ฎา ค ม ๒ ๕ ๕ ๕ ส ํ า น ั ก ง า น ก า ร บ ิ น พ ล เร ื อ น แห ่ ง ป ร ะ เท ศ ไท ย (ก พ ท .) อ น ุ ญา ต ให ้\n",
      "ป ฏิ บ ั ต ิ แต ก ต ่ า ง จ า ก เงื ่ อ เง ื ่ อ น ไข ก า ร ท ํ า ก า ร บ ิ น ใน พ ื ้ น ท ี ่ อ ั น ต ร า ย ได ้ ต า ม ว ั น แล ะ เว ล า ท ี ่ ขอ อ น ุ ญา ต ท ี ่ ค ว า ม ส ู ง\n",
      "ไม ่ เก ิ น ๕ ๐ เม ต ร เห น ื อ พ ื ้ น ติ น ท ั ้ ง นี ้ ก่ อ น ท ํ า ก า ร บ ิ น ต ้ อ ง ต ิ ด ต ่ อ โร ง เร ี ย น ก า ร บ ิ น ก ํ า แพ ง แส น ใบ ฐา น ะ ผู ้ ร ั บ ผิ ต ชอบ\n",
      "พ ื ้ น ท ี ่ พ ร ้ อ ม ท ั ้ ง ป ฏิ บ ั ต ิ ต า ม เง ื ่ อ น ไข ห ร ื อ ค ํ า แน ะ น ํ า ท ี ่ โร ง เร ี ย น ก า ร บ ิ น ก ํ า แพ ง แส น ก ํ า ห น ด ไว ้ แล ะ ต ้ อ ง ป ฏิ บ ั ต ิ ต า ม .\n",
      "เง ื ่ อ น ไข ส ํ า ห ร ั บ ก า ร ถ่ า ย ภา พ ท า ง อ า ก า ศ ต า ม ร ู ป แบ บ ม า ต ร ฐา น (๐ (7-61- บ 45-006) อ ย ่ า ง เค ร ่ ง ค ร ั ด\n",
      "\n",
      "อ น ึ ่ ง ห า ก ผู ้ บั ง ค ั บ ห ร ื อ ป ล ่ อ ย อ า ก า ศ ย า น ฯ ฝ่า ฝืน ห ร ื อ ไม ่ ป ฏิ บ ั ต ิ ต า ม เง ื ่ อ น ไข ท ี ่ ก ํ า ห น ด จ ะ ม ี\n",
      "ค ว า ม ผิ ด ต า ม ม า ต ร า ๒ ๕ แล ะ ต ้ อ ง ร ะ ว า ง โท ษ ป ร ั บ ไม ่ เก ิ น ห ้ า ห ม ื ่ น บ า ท ต า ม ม า ต ร า ๒ ๓ / ๒ ๐ แห ่ ง พ ร ะ ร า ช บ ั ญ ญ ั ต ิ\n",
      "ก า ร เต ิ น อ า ก า ศ พ . ศ , ๒ ๕ ๓ ท ั ้ ง น ี ้ ก ่ อ น ท ํ า ก า ร บ ิ น ค ว ร ต ิ ด ต ่ อ ป ร ะ ส า น แจ ้ ง ส ถา น ี ต ํ า ร ว จ ผู ้ ร ั บ ผิ ด ชอบ ห้ อ ง ท ี ่ ใน 1\n",
      "ท ี ่ ท ํ า ก า ร บ ิ น ศู น ย ์ ต ่ อ ต ้ า น อ า ก า ศ ย า น ซึ ่ ง ไม ่ ม ี น ั ก บ ิ น ป ร ะ เภ ท อ า ก า ศ ย า น ท ี ่ ค ว บ ค ุ ม ก า ร บ ิ น จ า ก ภา ย น อ ก (โต ร น )\n",
      "ก อ ง บ ั ญ ชา ก า ร ต ํ า ร ว จ น ค ร บ า ล ( ศ ต อ . น ) โท ร ศั พ ท ์ ๐ ๒ ๑ ๒ ๒ ๓ ๕ ๕ ๒ ส ่ ว ง ห น ้ า ไม ่ น ้ อ ย ก ว ่ า ๑ ว ั น\n",
      "\n",
      "จ ึ ง เร ี ย น ม า เพ ื ่ อ ท ร า บ .\n",
      ". ข อ แส ด ง ค ว า ม น ั บ ถื อ\n",
      "(9-\n",
      "(น า ย ฉั ต ร ชั ย ป ั ่ น ต ร ะ ก ู ล )\n",
      "\n",
      "ผู ้ จ ั ด ก า ร ฝ่า ย ม า ต ร ฐา น อ า ก า ศ ย า น ซึ ่ ง ไม ่ ม ี น ั ก บ ิ น ป ฏิ บ ั ต ิ ก า ร แท น\n",
      "ผู ้ อ ํ า น ว ย ก า ร ส ํ า น ั ก ง า น ก า ร บ ิ น พ ล เร ื อ น แห ่ ง ป ร ะ เท ศ ไท ย\n",
      "\n",
      "ฝ่า ย ม า ต ร ฐา น อ า ก า ศ ย า น ซึ ่ ง ไม ่ ม ี น ั ก บ ิ น\n",
      ". โ ท ร ศั พ ท ์ ๐ ๒ ๕ ๐ ๕ ๕ ๕ ๕ ๑\n",
      "ไปรษณีย์ อ ิ เล ็ ก ท ร อ น ิ ก ส ์ แล ะ แห @ ๕ 396.06. เ 7\n",
      "\n"
     ]
    }
   ],
   "source": [
    "import pytesseract\n",
    "from PIL import Image\n",
    "\n",
    "# ตั้งค่าเส้นทางไปยัง Tesseract executable\n",
    "pytesseract.pytesseract.tesseract_cmd = r'/opt/homebrew/bin/tesseract'\n",
    "\n",
    "# ตั้งค่าเส้นทางให้ Tesseract ใช้โมเดลที่ฝึกเสร็จแล้ว\n",
    "custom_config = r'--tessdata-dir \"/Users/gunnviryasiri/pythainlp-data/tessdata\" -l tha'\n",
    "\n",
    "# โหลดรูปภาพที่ต้องการทดสอบ OCR\n",
    "image_path = '/Users/gunnviryasiri/Desktop/ocr/testfile/file1.jpg'\n",
    "image = Image.open(image_path)\n",
    "\n",
    "# ทำ OCR ด้วย Tesseract\n",
    "text = pytesseract.image_to_string(image, config=custom_config)\n",
    "\n",
    "print(text)\n"
   ]
  },
  {
   "cell_type": "markdown",
   "metadata": {},
   "source": [
    "# TH + ENG"
   ]
  },
  {
   "cell_type": "code",
   "execution_count": 11,
   "metadata": {},
   "outputs": [
    {
     "name": "stdout",
     "output_type": "stream",
     "text": [
      "ท ี ่ ก พ ท ๐ ๑ / ล ๑ ๕ พ ส ํ า น ั ก ง า น ก า ร บ ิ น พ ล เร ื อ น แห ่ ง ป ร ะ เท ศ ไ ท ย\n",
      "\n",
      "' ๒ ๒ ๒ ขอ ย ว ิ ภา ว ต ี ร ั ง ส ิ ต ๒ ๕\n",
      "\n",
      "ถ ถ น น ว ิ ภา ว ด ี ร ั ง ส ิ ต แข ว ง จ ต ุ จ ั ก ร\n",
      "\n",
      ". เ ข ต จ ต ุ จ ั ก ร ก ร ุ ง เท พ ม ห า น ค ร ๑ ๐ ๓ ๐ ๐\n",
      "\n",
      "5 ก ุ ม ภา พ ั น ธ์ ๒ ๕ ๒ ๓\n",
      "เร ื ่ อ ง ก า ร อ น ุ ญา ต บ ั ง ค ั บ ห ร ื อ ป ล ่ อ ย อ า ก า ศ ย า น ซึ ่ ง ไม ่ ม ี น ั ก บ ิ น ใน พ ื ้ น ท ี ่ อ ั น ต ร า ย\n",
      "เร ี ย น น า ย ก ั น ย ์ ว ิ ร ย ศิ ร ิ\n",
      "ต า ม ท ี ่ ท ่ า น ม ี ค ว า ม ป ร ะ ส ง ค ์ จ ะ ท ํ า ก า ร บ ิ น ถ่ า ย ภา พ น ึ ่ ง แล ะ ภา พ เค ล ื ่ อ น ไห ว ใน ม ุ ม ส ู ง\n",
      "\n",
      "จ ึ ง ขอ อ น ุ ญา ต บ ั ง ค ั บ ห ร ื อ ป ล ่ อ ย อ า ก า ศ ย า น ซึ่ ง ไม ่ ม ี น ั ก บ ื น ต า ม ห น ั ง ส ื อ ก า ร ขึ ้ น ท ะ เบ ี ย น ผู้ บ ั ง ค ั บ ห ร ื อ ป ล ่ อ ย\n",
      "อ า ก า ศ ย า น ซึ ่ ง ไม ่ ม ี น ั ก บ ิ น เล ข ท ี ่ ๐ ๑ ๐ ๒ ๕ ๒ / ๒ ๕ ๒ ๒ แบ บ !/ บ เป ่ ศิ ๐ ๒ ๐ «ย่ ห ้ อ DI รุ่น ม ย 3 ห ม า ย เล ข เค ร ื ่ อ ง\n",
      "1561 ค ร ท 4๕22640026970 ท ํ า ก า ร บ ิ น ใน ว ั น ท ี ่ ๕ - ๓ ก ุ ม ภา พ ั น ธ์ ๒ ๕ ๒ ๓ ช่ ว ง เว ล า ๑ ๐ ๐ ๐ - ๑ ๒ ๐ ๐ น .\n",
      "\n",
      "บ ร ิ เว ณ พ ื ้ น ท ี ่ ศา ล เจ ้ า ฮ ก เฮ ง ต ั ๋ ว ต ํ า บ ล ส อ ง พ ี ่ น ้ อ ง อ ํ า เภ อ ส อ ง พ ี ่ น ้ อ ง จ ั ง ห ว ั ด ส ุ พ ร ร ณ บ ุ ร ี ซึ่ ง อ ย ู ่ ใน พ ื ้ น ท ี ่ อ ั น ต ร า ย\n",
      "VT 016 Ratchaburi โด ย ใช ้ ค ว า ม ส ู ง ไม ่ เก ิ น «๐ เม ต ร เห น ื อ พ ื ้ น ด ิ น น ั ้ น\n",
      "\n",
      "อ า ศั ย อ ํ า น า จ ต า ม ข้ อ ๑ ๐ ขอ ง ป ร ะ ก า ศก ร ะ ท ร ว ง ค ม น า ค ม เร ื ่ อ ง ห ล ั ก เก ณ ฑ์ ก า ร ขอ อ น ุ ญา ต\n",
      "แล ะ เง ื ่ อ น ไข ใน ก า ร บ ั ง ค ั บ ห ร ื อ ป ล ่ อ ย อ า ก า ศ ย า น ซึ ่ ง ไม ่ ม ี น ั ก บ ิ น ป ร ะ เภ ท อ า ก า ศ ย า น ท ี ่ ค ว บ ค ุ ม ก า ร บ ิ น จ า ก ภา ย น อ ก\n",
      "ป ร ะ ก า ศ ณ ว ั น ท ี ่ ๒ ) ก ร ก ฎา ค ม ๒ ๕ ๕ ๕ ส ํ า น ั ก ง า น ก า ร บ ิ น พ ล เร ื อ น แห ่ ง ป ร ะ เท ศ ไท ย (ก พ ท .) อ น ุ ญา ต ให ้\n",
      "ป ฏิ บ ั ต ิ แต ก ต ่ า ง จ า ก เงื ่ อ เง ื ่ อ น ไข ก า ร ท ํ า ก า ร บ ิ น ใน พ ื ้ น ท ี ่ อ ั น ต ร า ย ได ้ ต า ม ว ั น แล ะ เว ล า ท ี ่ ขอ อ น ุ ญา ต ท ี ่ ค ว า ม ส ู ง\n",
      "ไม ่ เก ิ น ๕ ๐ เม ต ร เห น ื อ พ ื ้ น ติ น ท ั ้ ง นี ้ ก่ อ น ท ํ า ก า ร บ ิ น ต ้ อ ง ต ิ ด ต ่ อ โร ง เร ี ย น ก า ร บ ิ น ก ํ า แพ ง แส น ใบ ฐา น ะ ผู ้ ร ั บ ผิ ต ชอบ\n",
      "พ ื ้ น ท ี ่ พ ร ้ อ ม ท ั ้ ง ป ฏิ บ ั ต ิ ต า ม เง ื ่ อ น ไข ห ร ื อ ค ํ า แน ะ น ํ า ท ี ่ โร ง เร ี ย น ก า ร บ ิ น ก ํ า แพ ง แส น ก ํ า ห น ด ไว ้ แล ะ ต ้ อ ง ป ฏิ บ ั ต ิ ต า ม .\n",
      "เง ื ่ อ น ไข ส ํ า ห ร ั บ ก า ร ถ่ า ย ภา พ ท า ง อ า ก า ศ ต า ม ร ู ป แบ บ ม า ต ร ฐา น (๐ (7-61- บ 45-006) อ ย ่ า ง เค ร ่ ง ค ร ั ด\n",
      "\n",
      "อ น ึ ่ ง ห า ก ผู ้ บั ง ค ั บ ห ร ื อ ป ล ่ อ ย อ า ก า ศ ย า น ฯ ฝ่า ฝืน ห ร ื อ ไม ่ ป ฏิ บ ั ต ิ ต า ม เง ื ่ อ น ไข ท ี ่ ก ํ า ห น ด จ ะ ม ี\n",
      "ค ว า ม ผิ ด ต า ม ม า ต ร า ๒ ๕ แล ะ ต ้ อ ง ร ะ ว า ง โท ษ ป ร ั บ ไม ่ เก ิ น ห ้ า ห ม ื ่ น บ า ท ต า ม ม า ต ร า ๒ ๓ / ๒ ๐ แห ่ ง พ ร ะ ร า ช บ ั ญ ญ ั ต ิ\n",
      "ก า ร เต ิ น อ า ก า ศ พ . ศ , ๒ ๕ ๓ ท ั ้ ง น ี ้ ก ่ อ น ท ํ า ก า ร บ ิ น ค ว ร ต ิ ด ต ่ อ ป ร ะ ส า น แจ ้ ง ส ถา น ี ต ํ า ร ว จ ผู ้ ร ั บ ผิ ด ชอบ ห้ อ ง ท ี ่ ใน 1\n",
      "ท ี ่ ท ํ า ก า ร บ ิ น ศู น ย ์ ต ่ อ ต ้ า น อ า ก า ศ ย า น ซึ ่ ง ไม ่ ม ี น ั ก บ ิ น ป ร ะ เภ ท อ า ก า ศ ย า น ท ี ่ ค ว บ ค ุ ม ก า ร บ ิ น จ า ก ภา ย น อ ก (โต ร น )\n",
      "ก อ ง บ ั ญ ชา ก า ร ต ํ า ร ว จ น ค ร บ า ล ( ศ ต อ . น ) โท ร ศั พ ท ์ ๐ ๒ ๑ ๒ ๒ ๓ ๕ ๕ ๒ ส ่ ว ง ห น ้ า ไม ่ น ้ อ ย ก ว ่ า ๑ ว ั น\n",
      "\n",
      "จ ึ ง เร ี ย น ม า เพ ื ่ อ ท ร า บ .\n",
      ". ข อ แส ด ง ค ว า ม น ั บ ถื อ\n",
      "o\n",
      "(น า ย ฉั ต ร ชั ย ป ั ่ น ต ร ะ ก ู ล )\n",
      "\n",
      "ผู ้ จ ั ด ก า ร ฝ่า ย ม า ต ร ฐา น อ า ก า ศ ย า น ซึ ่ ง ไม ่ ม ี น ั ก บ ิ น ป ฏิ บ ั ต ิ ก า ร แท น\n",
      "ผู ้ อ ํ า น ว ย ก า ร ส ํ า น ั ก ง า น ก า ร บ ิ น พ ล เร ื อ น แห ่ ง ป ร ะ เท ศ ไท ย\n",
      "\n",
      "ฝ่า ย ม า ต ร ฐา น อ า ก า ศ ย า น ซึ ่ ง ไม ่ ม ี น ั ก บ ิ น\n",
      ". โ ท ร ศั พ ท ์ ๐ ๒ ๕ ๐ ๕ ๕ ๕ ๕ ๑\n",
      "ไปรษณีย์ อ ิ เล ็ ก ท ร อ น ิ ก ส ์ uas_uacaatorth\n",
      "\n"
     ]
    }
   ],
   "source": [
    "import pytesseract\n",
    "from PIL import Image\n",
    "\n",
    "# ตั้งค่าเส้นทางไปยัง Tesseract executable\n",
    "pytesseract.pytesseract.tesseract_cmd = r'/opt/homebrew/bin/tesseract'\n",
    "\n",
    "# ตั้งค่าเส้นทางให้ Tesseract ใช้โมเดลที่ฝึกเสร็จแล้ว\n",
    "custom_config = r'--tessdata-dir \"/Users/gunnviryasiri/pythainlp-data/tessdata\" -l tha+eng'\n",
    "\n",
    "# โหลดรูปภาพที่ต้องการทดสอบ OCR\n",
    "image_path = '/Users/gunnviryasiri/Desktop/ocr/testfile/file1.jpg'\n",
    "image = Image.open(image_path)\n",
    "\n",
    "# ทำ OCR ด้วย Tesseract\n",
    "text = pytesseract.image_to_string(image, config=custom_config)\n",
    "\n",
    "print(text)\n"
   ]
  },
  {
   "cell_type": "markdown",
   "metadata": {},
   "source": [
    "# extended export file"
   ]
  },
  {
   "cell_type": "code",
   "execution_count": 1,
   "metadata": {},
   "outputs": [
    {
     "name": "stdout",
     "output_type": "stream",
     "text": [
      "Text extracted and saved to /Users/gunnviryasiri/Desktop/ocr/11jul_7777777.txt\n"
     ]
    }
   ],
   "source": [
    "import pytesseract\n",
    "from PIL import Image\n",
    "import cv2\n",
    "\n",
    "# ตั้งค่าเส้นทางไปยัง Tesseract executable\n",
    "pytesseract.pytesseract.tesseract_cmd = r'/opt/homebrew/bin/tesseract'\n",
    "\n",
    "# Path to the image file\n",
    "image_path = '/Users/gunnviryasiri/Desktop/ocr/testfile/file1.jpg'\n",
    "\n",
    "# Path to the output text file\n",
    "output_text_file = '/Users/gunnviryasiri/Desktop/ocr/11jul_7777777.txt'\n",
    "\n",
    "# Load the image\n",
    "image = Image.open(image_path)\n",
    "\n",
    "# Convert the image to grayscale\n",
    "gray = image.convert('L')\n",
    "\n",
    "# Perform OCR on the image using Thai and English languages\n",
    "custom_config = r'--tessdata-dir \"/Users/gunnviryasiri/pythainlp-data/tessdata\" --oem 3 --psm 6'\n",
    "text = pytesseract.image_to_string(gray, config=custom_config, lang='tha+eng')\n",
    "\n",
    "# Save the extracted text to a file\n",
    "with open(output_text_file, 'w', encoding='utf-8') as f:\n",
    "    f.write(text)\n",
    "\n",
    "print(f'Text extracted and saved to {output_text_file}')\n"
   ]
  },
  {
   "cell_type": "markdown",
   "metadata": {},
   "source": [
    "## แก้ name format"
   ]
  },
  {
   "cell_type": "code",
   "execution_count": 7,
   "metadata": {},
   "outputs": [
    {
     "name": "stdout",
     "output_type": "stream",
     "text": [
      "Text extracted and saved to /Users/gunnviryasiri/Desktop/ocr/results/ocr20240811_194229.txt\n"
     ]
    }
   ],
   "source": [
    "import pytesseract\n",
    "from PIL import Image\n",
    "import cv2\n",
    "from datetime import datetime\n",
    "\n",
    "# ตั้งค่าเส้นทางไปยัง Tesseract executable\n",
    "pytesseract.pytesseract.tesseract_cmd = r'/opt/homebrew/bin/tesseract'\n",
    "\n",
    "# Path to the image file\n",
    "image_path = '/Users/gunnviryasiri/Desktop/ocr/testfile/file1.jpg'\n",
    "\n",
    "# สร้างชื่อไฟล์จากวันที่และเวลา\n",
    "current_time = datetime.now().strftime(\"%Y%m%d_%H%M%S\")\n",
    "output_text_file = f'/Users/gunnviryasiri/Desktop/ocr/results/ocr_\\{current_time}.txt'\n",
    "\n",
    "# Load the image\n",
    "image = Image.open(image_path)\n",
    "\n",
    "# Convert the image to grayscale\n",
    "gray = image.convert('L')\n",
    "\n",
    "# Perform OCR on the image using Thai and English languages\n",
    "custom_config = r'--tessdata-dir \"/Users/gunnviryasiri/pythainlp-data/tessdata\" --oem 3 --psm 6'\n",
    "text = pytesseract.image_to_string(gray, config=custom_config, lang='tha+eng')\n",
    "\n",
    "# Save the extracted text to a file\n",
    "with open(output_text_file, 'w', encoding='utf-8') as f:\n",
    "    f.write(text)\n",
    "\n",
    "print(f'Text extracted and saved to {output_text_file}')\n"
   ]
  },
  {
   "cell_type": "markdown",
   "metadata": {},
   "source": [
    "## ลบช่องว่างด้วย \" \" > \"\""
   ]
  },
  {
   "cell_type": "code",
   "execution_count": 9,
   "metadata": {},
   "outputs": [
    {
     "name": "stdout",
     "output_type": "stream",
     "text": [
      "Text extracted, cleaned, and saved to /Users/gunnviryasiri/Desktop/ocr/results/ocr_output_20240811_194635.txt\n"
     ]
    }
   ],
   "source": [
    "import pytesseract\n",
    "from PIL import Image\n",
    "import cv2\n",
    "from datetime import datetime\n",
    "\n",
    "# ตั้งค่าเส้นทางไปยัง Tesseract executable\n",
    "pytesseract.pytesseract.tesseract_cmd = r'/opt/homebrew/bin/tesseract'\n",
    "\n",
    "# Path to the image file\n",
    "image_path = '/Users/gunnviryasiri/Desktop/ocr/testfile/file1.jpg'\n",
    "\n",
    "# สร้างชื่อไฟล์จากวันที่และเวลา\n",
    "current_time = datetime.now().strftime(\"%Y%m%d_%H%M%S\")\n",
    "output_text_file = f'/Users/gunnviryasiri/Desktop/ocr/results/ocr_output_{current_time}.txt'\n",
    "\n",
    "# Load the image\n",
    "image = Image.open(image_path)\n",
    "\n",
    "# Convert the image to grayscale\n",
    "gray = image.convert('L')\n",
    "\n",
    "# Perform OCR on the image using Thai and English languages\n",
    "custom_config = r'--tessdata-dir \"/Users/gunnviryasiri/pythainlp-data/tessdata\" --oem 3 --psm 6'\n",
    "text = pytesseract.image_to_string(gray, config=custom_config, lang='tha+eng')\n",
    "\n",
    "# ลบช่องว่างทั้งหมดออกจากข้อความที่ได้\n",
    "text_no_spaces = text.replace(\" \", \"\")\n",
    "\n",
    "# Save the cleaned text to a file\n",
    "with open(output_text_file, 'w', encoding='utf-8') as f:\n",
    "    f.write(text_no_spaces)\n",
    "\n",
    "print(f'Text extracted, cleaned, and saved to {output_text_file}')\n"
   ]
  }
 ],
 "metadata": {
  "kernelspec": {
   "display_name": "Python 3",
   "language": "python",
   "name": "python3"
  },
  "language_info": {
   "codemirror_mode": {
    "name": "ipython",
    "version": 3
   },
   "file_extension": ".py",
   "mimetype": "text/x-python",
   "name": "python",
   "nbconvert_exporter": "python",
   "pygments_lexer": "ipython3",
   "version": "3.11.0"
  }
 },
 "nbformat": 4,
 "nbformat_minor": 2
}
